{
 "cells": [
  {
   "cell_type": "markdown",
   "metadata": {},
   "source": [
    "# The Algo"
   ]
  },
  {
   "cell_type": "code",
   "execution_count": 59,
   "metadata": {},
   "outputs": [],
   "source": [
    "def AL (playerA, playerB):\n",
    "    A = []\n",
    "    B = []\n",
    "    CP = []\n",
    "    originA = playerA.copy()\n",
    "    originB = playerB.copy()\n",
    "    # make the first allocation\n",
    "    first = False\n",
    "    while not first:\n",
    "        #print(\"in\")\n",
    "        if playerA[0]==playerB[0]:\n",
    "            CP.append(playerA[0])\n",
    "            del playerA[0]\n",
    "            del playerB[0]\n",
    "        else:\n",
    "            A.append(playerA[0])\n",
    "            B.append(playerB[0])\n",
    "            playerA.remove(playerB[0])\n",
    "            playerB.remove(playerA[0])\n",
    "            del playerA[0]\n",
    "            del playerB[0]\n",
    "            first = True\n",
    "    #make rest of the allocations\n",
    "    t=1\n",
    "    given = False\n",
    "    #print(originA, originB)\n",
    "    #print(playerA, playerB)\n",
    "    while len(playerA)>0:\n",
    "        print(\"return\",A,B,CP)\n",
    "        print(\"kelet\", playerA, playerB)\n",
    "        if playerA[0] != playerB[0]:\n",
    "            #print(\"in first if\")\n",
    "            A.append(playerA[0])\n",
    "            B.append(playerB[0])\n",
    "            playerA.remove(playerB[0])\n",
    "            playerB.remove(playerA[0])\n",
    "            del playerA[0]\n",
    "            del playerB[0]\n",
    "            #print(\"bad\", playerA, playerB)\n",
    "        else:\n",
    "            tied_item = playerA[0]\n",
    "            #print(\"ti\",tied_item)\n",
    "            del playerA[0]\n",
    "            del playerB[0]\n",
    "            for item in playerA:\n",
    "                if not given:\n",
    "                    B.append(tied_item)\n",
    "                    A.append(item)\n",
    "                    index = originA.index(item)\n",
    "                    counter=0\n",
    "                    for b in B:\n",
    "                        if originA.index(b)<index:\n",
    "                            counter+=1\n",
    "                    if counter<=t:\n",
    "                        given = True\n",
    "                        playerB.remove(item)\n",
    "                        playerA.remove(item)\n",
    "                    else:\n",
    "                        B.remove(tied_item)\n",
    "                        A.remove(item)\n",
    "                        t+=1\n",
    "            #print(\"shit\", playerA, playerB)\n",
    "            t=1\n",
    "            for item in playerB:\n",
    "                if not given:\n",
    "                    A.append(tied_item)\n",
    "                    B.append(item)\n",
    "                    index = originB.index(item)\n",
    "                    counter=0\n",
    "                    for a in A:\n",
    "                        if originB.index(a)<index:\n",
    "                            counter+=1\n",
    "                    if counter<=t:\n",
    "                        given = True\n",
    "                        #print(\"lalala\",playerA[0], playerB[0])\n",
    "                        #print(\"wello\", playerA, playerB)\n",
    "                        playerA.remove(item)\n",
    "                        playerB.remove(item)\n",
    "                    else:\n",
    "                        A.remove(tied_item)\n",
    "                        B.remove(item)\n",
    "                        t+=1\n",
    "            if given == False:\n",
    "                CP.append(playerA[0])\n",
    "                playerA.remove(playerB[0])\n",
    "                playerB.remove(playerA[0])\n",
    "                del playerA[0]\n",
    "                del playerB[0]\n",
    "            t+=1\n",
    "            #print(A,B,CP)\n",
    "    return A,B,CP"
   ]
  },
  {
   "cell_type": "code",
   "execution_count": 56,
   "metadata": {},
   "outputs": [
    {
     "name": "stdout",
     "output_type": "stream",
     "text": [
      "return [1] [2] []\n",
      "kelet [3, 4] [3, 4]\n",
      "[1, 3] [2, 4] []\n"
     ]
    }
   ],
   "source": [
    "A,B,CP = AL([1,2,3,4],[2,3,4,1])\n",
    "print(A,B,CP)"
   ]
  },
  {
   "cell_type": "code",
   "execution_count": 52,
   "metadata": {},
   "outputs": [
    {
     "name": "stdout",
     "output_type": "stream",
     "text": [
      "[1, 2] [4, 3] []\n"
     ]
    }
   ],
   "source": [
    "A,B,CP = AL([1,2,3,4],[4,3,2,1])\n",
    "print(A,B,CP)"
   ]
  },
  {
   "cell_type": "code",
   "execution_count": 60,
   "metadata": {},
   "outputs": [
    {
     "ename": "IndexError",
     "evalue": "list index out of range",
     "output_type": "error",
     "traceback": [
      "\u001b[1;31m---------------------------------------------------------------------------\u001b[0m",
      "\u001b[1;31mIndexError\u001b[0m                                Traceback (most recent call last)",
      "\u001b[1;32m<ipython-input-60-408327f816d4>\u001b[0m in \u001b[0;36m<module>\u001b[1;34m\u001b[0m\n\u001b[1;32m----> 1\u001b[1;33m \u001b[0mA\u001b[0m\u001b[1;33m,\u001b[0m\u001b[0mB\u001b[0m\u001b[1;33m,\u001b[0m\u001b[0mCP\u001b[0m \u001b[1;33m=\u001b[0m \u001b[0mAL\u001b[0m\u001b[1;33m(\u001b[0m\u001b[1;33m[\u001b[0m\u001b[1;36m1\u001b[0m\u001b[1;33m,\u001b[0m\u001b[1;36m2\u001b[0m\u001b[1;33m,\u001b[0m\u001b[1;36m3\u001b[0m\u001b[1;33m,\u001b[0m\u001b[1;36m4\u001b[0m\u001b[1;33m]\u001b[0m\u001b[1;33m,\u001b[0m\u001b[1;33m[\u001b[0m\u001b[1;36m1\u001b[0m\u001b[1;33m,\u001b[0m\u001b[1;36m2\u001b[0m\u001b[1;33m,\u001b[0m\u001b[1;36m3\u001b[0m\u001b[1;33m,\u001b[0m\u001b[1;36m4\u001b[0m\u001b[1;33m]\u001b[0m\u001b[1;33m)\u001b[0m\u001b[1;33m\u001b[0m\u001b[1;33m\u001b[0m\u001b[0m\n\u001b[0m\u001b[0;32m      2\u001b[0m \u001b[0mprint\u001b[0m\u001b[1;33m(\u001b[0m\u001b[0mA\u001b[0m\u001b[1;33m,\u001b[0m\u001b[0mB\u001b[0m\u001b[1;33m,\u001b[0m\u001b[0mCP\u001b[0m\u001b[1;33m)\u001b[0m\u001b[1;33m\u001b[0m\u001b[1;33m\u001b[0m\u001b[0m\n",
      "\u001b[1;32m<ipython-input-59-89e707b0cc31>\u001b[0m in \u001b[0;36mAL\u001b[1;34m(playerA, playerB)\u001b[0m\n\u001b[0;32m      9\u001b[0m     \u001b[1;32mwhile\u001b[0m \u001b[1;32mnot\u001b[0m \u001b[0mfirst\u001b[0m\u001b[1;33m:\u001b[0m\u001b[1;33m\u001b[0m\u001b[1;33m\u001b[0m\u001b[0m\n\u001b[0;32m     10\u001b[0m         \u001b[1;31m#print(\"in\")\u001b[0m\u001b[1;33m\u001b[0m\u001b[1;33m\u001b[0m\u001b[1;33m\u001b[0m\u001b[0m\n\u001b[1;32m---> 11\u001b[1;33m         \u001b[1;32mif\u001b[0m \u001b[0mplayerA\u001b[0m\u001b[1;33m[\u001b[0m\u001b[1;36m0\u001b[0m\u001b[1;33m]\u001b[0m\u001b[1;33m==\u001b[0m\u001b[0mplayerB\u001b[0m\u001b[1;33m[\u001b[0m\u001b[1;36m0\u001b[0m\u001b[1;33m]\u001b[0m\u001b[1;33m:\u001b[0m\u001b[1;33m\u001b[0m\u001b[1;33m\u001b[0m\u001b[0m\n\u001b[0m\u001b[0;32m     12\u001b[0m             \u001b[0mCP\u001b[0m\u001b[1;33m.\u001b[0m\u001b[0mappend\u001b[0m\u001b[1;33m(\u001b[0m\u001b[0mplayerA\u001b[0m\u001b[1;33m[\u001b[0m\u001b[1;36m0\u001b[0m\u001b[1;33m]\u001b[0m\u001b[1;33m)\u001b[0m\u001b[1;33m\u001b[0m\u001b[1;33m\u001b[0m\u001b[0m\n\u001b[0;32m     13\u001b[0m             \u001b[1;32mdel\u001b[0m \u001b[0mplayerA\u001b[0m\u001b[1;33m[\u001b[0m\u001b[1;36m0\u001b[0m\u001b[1;33m]\u001b[0m\u001b[1;33m\u001b[0m\u001b[1;33m\u001b[0m\u001b[0m\n",
      "\u001b[1;31mIndexError\u001b[0m: list index out of range"
     ]
    }
   ],
   "source": [
    "A,B,CP = AL([1,2,3,4],[1,2,3,4])\n",
    "print(A,B,CP)"
   ]
  },
  {
   "cell_type": "code",
   "execution_count": 57,
   "metadata": {},
   "outputs": [
    {
     "name": "stdout",
     "output_type": "stream",
     "text": [
      "return [1] [2] []\n",
      "kelet [3, 4, 5, 6] [3, 5, 4, 6]\n",
      "return [1, 5] [2, 3] []\n",
      "kelet [4, 6] [4, 6]\n",
      "return [1, 5] [2, 3] []\n",
      "kelet [6] [6]\n",
      "[1, 5] [2, 3] []\n"
     ]
    }
   ],
   "source": [
    "A, B, CP = AL([1,2,3,4,5,6], [2,3,5,4,1,6])\n",
    "print(A, B, CP)"
   ]
  }
 ],
 "metadata": {
  "interpreter": {
   "hash": "e90ca11f7b18917fe760a05d18dc3f620330c2df03cc3fd6378ea9d3c641ff5d"
  },
  "kernelspec": {
   "display_name": "Python 3.8.5 ('base')",
   "language": "python",
   "name": "python3"
  },
  "language_info": {
   "codemirror_mode": {
    "name": "ipython",
    "version": 3
   },
   "file_extension": ".py",
   "mimetype": "text/x-python",
   "name": "python",
   "nbconvert_exporter": "python",
   "pygments_lexer": "ipython3",
   "version": "3.8.5"
  },
  "orig_nbformat": 4
 },
 "nbformat": 4,
 "nbformat_minor": 2
}
