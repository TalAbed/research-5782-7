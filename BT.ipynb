{
 "cells": [
  {
   "cell_type": "markdown",
   "metadata": {},
   "source": [
    "# The Algo"
   ]
  },
  {
   "cell_type": "code",
   "execution_count": 30,
   "metadata": {},
   "outputs": [],
   "source": [
    "def BT(playerA, playerB):\n",
    "    A = []\n",
    "    B = []\n",
    "    CP = []\n",
    "    while len(playerA)>0:\n",
    "        if playerA[0] != playerB[0]:\n",
    "            A.append(playerA[0])\n",
    "            B.append(playerB[0])\n",
    "            playerA.remove(playerB[0])\n",
    "            playerB.remove(playerA[0])\n",
    "            del playerA[0]\n",
    "            del playerB[0]\n",
    "        else:\n",
    "            CP.append(playerA[0])\n",
    "            del playerA[0]\n",
    "            del playerB[0]\n",
    "    return A, B, CP"
   ]
  },
  {
   "cell_type": "markdown",
   "metadata": {},
   "source": [
    "# Tests"
   ]
  },
  {
   "cell_type": "code",
   "execution_count": 31,
   "metadata": {},
   "outputs": [
    {
     "name": "stdout",
     "output_type": "stream",
     "text": [
      "[1] [2] [3, 4]\n"
     ]
    }
   ],
   "source": [
    "A, B, CP = BT([1,2,3,4], [2,3,4,1])\n",
    "print(A, B, CP)"
   ]
  },
  {
   "cell_type": "code",
   "execution_count": 32,
   "metadata": {},
   "outputs": [
    {
     "name": "stdout",
     "output_type": "stream",
     "text": [
      "[1, 4] [2, 5] [3, 6]\n"
     ]
    }
   ],
   "source": [
    "A, B, CP = BT([1,2,3,4,5,6], [2,3,5,4,1,6])\n",
    "print(A, B, CP)"
   ]
  },
  {
   "cell_type": "code",
   "execution_count": 34,
   "metadata": {},
   "outputs": [
    {
     "name": "stdout",
     "output_type": "stream",
     "text": [
      "[1, 2, 7] [3, 4, 8] [5, 6]\n"
     ]
    }
   ],
   "source": [
    "A, B, CP = BT([1,2,3,4,5,6,7,8], [3,4,5,6,8,1,2,7])\n",
    "print(A, B, CP)"
   ]
  }
 ],
 "metadata": {
  "interpreter": {
   "hash": "e90ca11f7b18917fe760a05d18dc3f620330c2df03cc3fd6378ea9d3c641ff5d"
  },
  "kernelspec": {
   "display_name": "Python 3.8.5 ('base')",
   "language": "python",
   "name": "python3"
  },
  "language_info": {
   "codemirror_mode": {
    "name": "ipython",
    "version": 3
   },
   "file_extension": ".py",
   "mimetype": "text/x-python",
   "name": "python",
   "nbconvert_exporter": "python",
   "pygments_lexer": "ipython3",
   "version": "3.8.5"
  },
  "orig_nbformat": 4
 },
 "nbformat": 4,
 "nbformat_minor": 2
}
